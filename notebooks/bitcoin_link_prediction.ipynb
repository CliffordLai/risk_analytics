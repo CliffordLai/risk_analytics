{
 "cells": [
  {
   "cell_type": "markdown",
   "metadata": {},
   "source": [
    "# Bitcoin link prediction\n"
   ]
  },
  {
   "cell_type": "code",
   "execution_count": 1,
   "metadata": {
    "collapsed": true
   },
   "outputs": [],
   "source": [
    "import os\n",
    "import sys\n",
    "\n",
    "import json\n",
    "from pprint import pprint\n",
    "\n",
    "import requests\n",
    "import requests_cache\n",
    "\n",
    "from itertools import combinations_with_replacement as cwr\n",
    "\n",
    "import pandas as pd\n",
    "import numpy as np\n",
    "\n",
    "import matplotlib.pyplot as plt\n",
    "\n",
    "import networkx as nx\n",
    "\n",
    "from hiveplot import HivePlot\n",
    "from gensim.models import Word2Vec\n",
    "\n",
    "from sklearn.metrics import roc_auc_score as auc\n",
    "\n",
    "#from node2vec import node2vec as n2v\n",
    "from node2vec import node2vec as n2v\n",
    "\n",
    "from importlib import reload\n",
    "\n",
    "reload(n2v)\n",
    "\n",
    "plt.style.use('ggplot')\n",
    "%matplotlib inline"
   ]
  },
  {
   "cell_type": "code",
   "execution_count": 2,
   "metadata": {},
   "outputs": [
    {
     "name": "stdout",
     "output_type": "stream",
     "text": [
      "(58664, 5)\n"
     ]
    },
    {
     "data": {
      "text/html": [
       "<div>\n",
       "<style>\n",
       "    .dataframe thead tr:only-child th {\n",
       "        text-align: right;\n",
       "    }\n",
       "\n",
       "    .dataframe thead th {\n",
       "        text-align: left;\n",
       "    }\n",
       "\n",
       "    .dataframe tbody tr th {\n",
       "        vertical-align: top;\n",
       "    }\n",
       "</style>\n",
       "<table border=\"1\" class=\"dataframe\">\n",
       "  <thead>\n",
       "    <tr style=\"text-align: right;\">\n",
       "      <th></th>\n",
       "      <th>weight</th>\n",
       "      <th>spent_flag</th>\n",
       "      <th>height</th>\n",
       "      <th>addr_from</th>\n",
       "      <th>addr_to</th>\n",
       "    </tr>\n",
       "  </thead>\n",
       "  <tbody>\n",
       "    <tr>\n",
       "      <th>171</th>\n",
       "      <td>1000000000</td>\n",
       "      <td>True</td>\n",
       "      <td>170</td>\n",
       "      <td>12cbQLTFMXRnSzktFkuoG3eHoMeFtpTu3S</td>\n",
       "      <td>1Q2TWHE3GMdB6BZKafqwxXtWAWgFt5Jvm3</td>\n",
       "    </tr>\n",
       "    <tr>\n",
       "      <th>172</th>\n",
       "      <td>4000000000</td>\n",
       "      <td>True</td>\n",
       "      <td>170</td>\n",
       "      <td>12cbQLTFMXRnSzktFkuoG3eHoMeFtpTu3S</td>\n",
       "      <td>12cbQLTFMXRnSzktFkuoG3eHoMeFtpTu3S</td>\n",
       "    </tr>\n",
       "    <tr>\n",
       "      <th>183</th>\n",
       "      <td>3000000000</td>\n",
       "      <td>True</td>\n",
       "      <td>181</td>\n",
       "      <td>12cbQLTFMXRnSzktFkuoG3eHoMeFtpTu3S</td>\n",
       "      <td>12cbQLTFMXRnSzktFkuoG3eHoMeFtpTu3S</td>\n",
       "    </tr>\n",
       "    <tr>\n",
       "      <th>184</th>\n",
       "      <td>1000000000</td>\n",
       "      <td>False</td>\n",
       "      <td>181</td>\n",
       "      <td>12cbQLTFMXRnSzktFkuoG3eHoMeFtpTu3S</td>\n",
       "      <td>1DUDsfc23Dv9sPMEk5RsrtfzCw5ofi5sVW</td>\n",
       "    </tr>\n",
       "    <tr>\n",
       "      <th>186</th>\n",
       "      <td>100000000</td>\n",
       "      <td>True</td>\n",
       "      <td>182</td>\n",
       "      <td>12cbQLTFMXRnSzktFkuoG3eHoMeFtpTu3S</td>\n",
       "      <td>1LzBzVqEeuQyjD2mRWHes3dgWrT9titxvq</td>\n",
       "    </tr>\n",
       "  </tbody>\n",
       "</table>\n",
       "</div>"
      ],
      "text/plain": [
       "         weight  spent_flag  height                           addr_from  \\\n",
       "171  1000000000        True     170  12cbQLTFMXRnSzktFkuoG3eHoMeFtpTu3S   \n",
       "172  4000000000        True     170  12cbQLTFMXRnSzktFkuoG3eHoMeFtpTu3S   \n",
       "183  3000000000        True     181  12cbQLTFMXRnSzktFkuoG3eHoMeFtpTu3S   \n",
       "184  1000000000       False     181  12cbQLTFMXRnSzktFkuoG3eHoMeFtpTu3S   \n",
       "186   100000000        True     182  12cbQLTFMXRnSzktFkuoG3eHoMeFtpTu3S   \n",
       "\n",
       "                                addr_to  \n",
       "171  1Q2TWHE3GMdB6BZKafqwxXtWAWgFt5Jvm3  \n",
       "172  12cbQLTFMXRnSzktFkuoG3eHoMeFtpTu3S  \n",
       "183  12cbQLTFMXRnSzktFkuoG3eHoMeFtpTu3S  \n",
       "184  1DUDsfc23Dv9sPMEk5RsrtfzCw5ofi5sVW  \n",
       "186  1LzBzVqEeuQyjD2mRWHes3dgWrT9titxvq  "
      ]
     },
     "execution_count": 2,
     "metadata": {},
     "output_type": "execute_result"
    }
   ],
   "source": [
    "graph_df = pd.read_csv(\"../data/btc_df.csv\")\n",
    "# Filter out the mining transactions\n",
    "graph_df = graph_df.loc[~(graph_df.addr_from == 'mining'), :]\n",
    "graph_df = graph_df.rename(columns={'value': 'weight'})\n",
    "print(graph_df.shape)\n",
    "graph_df.head()"
   ]
  },
  {
   "cell_type": "code",
   "execution_count": 27,
   "metadata": {},
   "outputs": [
    {
     "data": {
      "text/html": [
       "<div>\n",
       "<style>\n",
       "    .dataframe thead tr:only-child th {\n",
       "        text-align: right;\n",
       "    }\n",
       "\n",
       "    .dataframe thead th {\n",
       "        text-align: left;\n",
       "    }\n",
       "\n",
       "    .dataframe tbody tr th {\n",
       "        vertical-align: top;\n",
       "    }\n",
       "</style>\n",
       "<table border=\"1\" class=\"dataframe\">\n",
       "  <thead>\n",
       "    <tr style=\"text-align: right;\">\n",
       "      <th></th>\n",
       "      <th>weight</th>\n",
       "      <th>spent_flag</th>\n",
       "      <th>height</th>\n",
       "      <th>addr_from</th>\n",
       "      <th>addr_to</th>\n",
       "    </tr>\n",
       "  </thead>\n",
       "  <tbody>\n",
       "    <tr>\n",
       "      <th>171</th>\n",
       "      <td>1000000000</td>\n",
       "      <td>True</td>\n",
       "      <td>170</td>\n",
       "      <td>12cbQLTFMXRnSzktFkuoG3eHoMeFtpTu3S</td>\n",
       "      <td>1Q2TWHE3GMdB6BZKafqwxXtWAWgFt5Jvm3</td>\n",
       "    </tr>\n",
       "    <tr>\n",
       "      <th>172</th>\n",
       "      <td>4000000000</td>\n",
       "      <td>True</td>\n",
       "      <td>170</td>\n",
       "      <td>12cbQLTFMXRnSzktFkuoG3eHoMeFtpTu3S</td>\n",
       "      <td>12cbQLTFMXRnSzktFkuoG3eHoMeFtpTu3S</td>\n",
       "    </tr>\n",
       "    <tr>\n",
       "      <th>183</th>\n",
       "      <td>3000000000</td>\n",
       "      <td>True</td>\n",
       "      <td>181</td>\n",
       "      <td>12cbQLTFMXRnSzktFkuoG3eHoMeFtpTu3S</td>\n",
       "      <td>12cbQLTFMXRnSzktFkuoG3eHoMeFtpTu3S</td>\n",
       "    </tr>\n",
       "    <tr>\n",
       "      <th>184</th>\n",
       "      <td>1000000000</td>\n",
       "      <td>False</td>\n",
       "      <td>181</td>\n",
       "      <td>12cbQLTFMXRnSzktFkuoG3eHoMeFtpTu3S</td>\n",
       "      <td>1DUDsfc23Dv9sPMEk5RsrtfzCw5ofi5sVW</td>\n",
       "    </tr>\n",
       "    <tr>\n",
       "      <th>186</th>\n",
       "      <td>100000000</td>\n",
       "      <td>True</td>\n",
       "      <td>182</td>\n",
       "      <td>12cbQLTFMXRnSzktFkuoG3eHoMeFtpTu3S</td>\n",
       "      <td>1LzBzVqEeuQyjD2mRWHes3dgWrT9titxvq</td>\n",
       "    </tr>\n",
       "  </tbody>\n",
       "</table>\n",
       "</div>"
      ],
      "text/plain": [
       "         weight  spent_flag  height                           addr_from  \\\n",
       "171  1000000000        True     170  12cbQLTFMXRnSzktFkuoG3eHoMeFtpTu3S   \n",
       "172  4000000000        True     170  12cbQLTFMXRnSzktFkuoG3eHoMeFtpTu3S   \n",
       "183  3000000000        True     181  12cbQLTFMXRnSzktFkuoG3eHoMeFtpTu3S   \n",
       "184  1000000000       False     181  12cbQLTFMXRnSzktFkuoG3eHoMeFtpTu3S   \n",
       "186   100000000        True     182  12cbQLTFMXRnSzktFkuoG3eHoMeFtpTu3S   \n",
       "\n",
       "                                addr_to  \n",
       "171  1Q2TWHE3GMdB6BZKafqwxXtWAWgFt5Jvm3  \n",
       "172  12cbQLTFMXRnSzktFkuoG3eHoMeFtpTu3S  \n",
       "183  12cbQLTFMXRnSzktFkuoG3eHoMeFtpTu3S  \n",
       "184  1DUDsfc23Dv9sPMEk5RsrtfzCw5ofi5sVW  \n",
       "186  1LzBzVqEeuQyjD2mRWHes3dgWrT9titxvq  "
      ]
     },
     "execution_count": 27,
     "metadata": {},
     "output_type": "execute_result"
    }
   ],
   "source": [
    "height_max = 40000\n",
    "height_train = int(height_max*0.9)\n",
    "graph_df = graph_df.loc[graph_df.height < height_max, :]\n",
    "graph_train = graph_df.loc[graph_df.height < height_train, :]\n",
    "graph_test = graph_df.loc[graph_df.height >= height_train, :]\n",
    "graph_df.head()"
   ]
  },
  {
   "cell_type": "markdown",
   "metadata": {},
   "source": [
    "# Create the bitcoin transaction graph and extract key metrics"
   ]
  },
  {
   "cell_type": "code",
   "execution_count": 28,
   "metadata": {},
   "outputs": [
    {
     "name": "stderr",
     "output_type": "stream",
     "text": [
      "/Users/pavel/miniconda3/envs/ra/lib/python3.6/site-packages/ipykernel/__main__.py:2: SettingWithCopyWarning: \n",
      "A value is trying to be set on a copy of a slice from a DataFrame.\n",
      "Try using .loc[row_indexer,col_indexer] = value instead\n",
      "\n",
      "See the caveats in the documentation: http://pandas.pydata.org/pandas-docs/stable/indexing.html#indexing-view-versus-copy\n",
      "  from ipykernel import kernelapp as app\n",
      "/Users/pavel/miniconda3/envs/ra/lib/python3.6/site-packages/ipykernel/__main__.py:7: SettingWithCopyWarning: \n",
      "A value is trying to be set on a copy of a slice from a DataFrame.\n",
      "Try using .loc[row_indexer,col_indexer] = value instead\n",
      "\n",
      "See the caveats in the documentation: http://pandas.pydata.org/pandas-docs/stable/indexing.html#indexing-view-versus-copy\n",
      "/Users/pavel/miniconda3/envs/ra/lib/python3.6/site-packages/ipykernel/__main__.py:12: SettingWithCopyWarning: \n",
      "A value is trying to be set on a copy of a slice from a DataFrame.\n",
      "Try using .loc[row_indexer,col_indexer] = value instead\n",
      "\n",
      "See the caveats in the documentation: http://pandas.pydata.org/pandas-docs/stable/indexing.html#indexing-view-versus-copy\n"
     ]
    }
   ],
   "source": [
    "edge_df = graph_df[['addr_from', 'addr_to']]#, 'weight']]\n",
    "edge_df['data'] = graph_df[['weight', 'height']].to_dict(orient='records')\n",
    "#edge_df['data'] = graph_df[['weight']].to_dict(orient='records')\n",
    "edge_list = edge_df.values.tolist()\n",
    "\n",
    "edge_train = graph_train[['addr_from', 'addr_to']]#, 'weight']]\n",
    "edge_train['data'] = graph_train[['weight', 'height']].to_dict(orient='records')\n",
    "#edge_df['data'] = graph_df[['weight']].to_dict(orient='records')\n",
    "edge_train_list = edge_train.values.tolist()\n",
    "\n",
    "edge_test = graph_test[['addr_from', 'addr_to']]#, 'weight']]\n",
    "edge_test['data'] = graph_test[['weight', 'height']].to_dict(orient='records')\n",
    "#edge_df['data'] = graph_df[['weight']].to_dict(orient='records')\n",
    "edge_test_list = edge_test.values.tolist()"
   ]
  },
  {
   "cell_type": "code",
   "execution_count": 30,
   "metadata": {},
   "outputs": [
    {
     "name": "stdout",
     "output_type": "stream",
     "text": [
      "Number of nodes: 5056\n",
      "Number of edges: 6690\n",
      "Number of train nodes: 3220\n",
      "Number of edges: 4207\n",
      "Number of test nodes: 1839\n",
      "Number of edges: 2483\n"
     ]
    }
   ],
   "source": [
    "G = nx.MultiDiGraph(edge_list)#[0:5000])\n",
    "G_train = nx.MultiDiGraph(edge_train_list)\n",
    "G_test = nx.MultiDiGraph(edge_test_list)\n",
    "#nx.draw_networkx(G, with_labels=False, node_size = 80)\n",
    "print(\"Number of nodes: {0}\\nNumber of edges: {1}\".format(G.number_of_nodes(), G.number_of_edges()))\n",
    "print(\"Number of train nodes: {0}\\nNumber of edges: {1}\".format(G_train.number_of_nodes(), G_train.number_of_edges()))\n",
    "print(\"Number of test nodes: {0}\\nNumber of edges: {1}\".format(G_test.number_of_nodes(), G_test.number_of_edges()))"
   ]
  },
  {
   "cell_type": "code",
   "execution_count": 31,
   "metadata": {},
   "outputs": [],
   "source": [
    "# Keep only nodes with valency at least 3\n",
    "nodes_ge3 = [n for n in G.nodes() if G.in_degree(n) + G.out_degree(n) >=3]\n",
    "G = G.subgraph(nodes_ge3)\n",
    "#degs_in = G.in_degree()\n",
    "#print(degs_in, '\\n')\n",
    "#degs_out = G.out_degree()\n",
    "\n",
    "nodes_train_ge3 = [n for n in G_train.nodes() if G_train.in_degree(n) + G_train.out_degree(n) >=3]\n",
    "G_train = G_train.subgraph(nodes_train_ge3)\n",
    "#degs_train_in = G_train.in_degree()\n",
    "#print(degs_in, '\\n')\n",
    "#degs_train_out = G_train.out_degree()\n",
    "\n",
    "nodes_test_ge3 = [n for n in G_test.nodes() if G_test.in_degree(n) + G_test.out_degree(n) >=3]\n",
    "G_test = G_test.subgraph(nodes_test_ge3)\n"
   ]
  },
  {
   "cell_type": "code",
   "execution_count": 33,
   "metadata": {},
   "outputs": [
    {
     "name": "stdout",
     "output_type": "stream",
     "text": [
      "Number of nodes: 136\n",
      "Number of edges: 252\n",
      "Number of nodes: 109\n",
      "Number of edges: 208\n",
      "Number of nodes: 28\n",
      "Number of edges: 42\n"
     ]
    }
   ],
   "source": [
    "G_und = G.to_undirected()\n",
    "G_train_und = G_train.to_undirected()\n",
    "G_test_und = G_test.to_undirected()\n",
    "# Assign transaction amount as weight\n",
    "print(\"Number of nodes: {0}\\nNumber of edges: {1}\".format(G.number_of_nodes(), G.number_of_edges()))\n",
    "print(\"Number of nodes: {0}\\nNumber of edges: {1}\".format(G_train.number_of_nodes(), G_train.number_of_edges()))\n",
    "print(\"Number of nodes: {0}\\nNumber of edges: {1}\".format(G_test.number_of_nodes(), G_test.number_of_edges()))\n",
    "\n"
   ]
  },
  {
   "cell_type": "code",
   "execution_count": 34,
   "metadata": {
    "collapsed": true
   },
   "outputs": [],
   "source": [
    "# pub_key = '1XPTgDRhN8RFnzniWCddobD9iKZatrvH4'\n",
    "# # Look at edges containing this public key\n",
    "# for e in G.edges():\n",
    "#     #if '12cbQLTFMXRnSzktFkuoG3eHoMeFtpTu3S' in e:\n",
    "#     if pub_key in e:\n",
    "#         print(e)\n",
    "\n",
    "# degrees = [{n: G.in_degree(n) + G.out_degree(n)} for n in G.nodes()]\n",
    "# degrees_df = pd.DataFrame.from_dict(degrees)\n",
    "# degrees_df"
   ]
  },
  {
   "cell_type": "markdown",
   "metadata": {},
   "source": [
    "## Decorate nodes and edges"
   ]
  },
  {
   "cell_type": "code",
   "execution_count": 35,
   "metadata": {
    "collapsed": true
   },
   "outputs": [],
   "source": [
    "# nx.set_node_attributes(G, \"degree_in\", degs_in)\n",
    "# nx.set_node_attributes(G, \"degree_out\", degs_out)\n",
    "# Assign \"pure_miner\" flag"
   ]
  },
  {
   "cell_type": "code",
   "execution_count": 36,
   "metadata": {
    "collapsed": true
   },
   "outputs": [],
   "source": [
    "#for n, d in G.nodes(data=True):\n",
    "#    print(n, d)\n",
    "\n",
    "#nodes['bc_mine'] = [(n,d) for n, d in G.nodes(data=True) if n == \"mining\"]\n",
    "#G.node['1A1zP1eP5QGefi2DMPTfTL5SLmv7DivfNa'][\"pure_miner\"] = True\n",
    "#G.node['1A1zP1eP5QGefi2DMPTfTL5SLmv7DivfNa']\n",
    "\n",
    "# # Find transaction recipients\n",
    "# sender_keys = frozenset(np.unique([pub_key for pub_key in graph_df['addr_from'] if pub_key != 'mining']))\n",
    "# #sender_key_mask = graph_df['addr_from'].isin(sender_keys)\n",
    "#miner_addr = frozenset(graph_df.loc[graph_df['addr_from'] == 'mining', 'addr_to'])\n",
    "#receiver_keys = frozenset(graph_df.loc[graph_df['addr_from'] != 'mining', 'addr_to'])\n",
    "\n",
    "# mining_edges = []\n",
    "# for i in range(graph_df.shape[0]):\n",
    "#     row = graph_df.iloc[i]\n",
    "#     if row['addr_from'] == 'mining':\n",
    "#         mining_edges.append((row['addr_from'], row['addr_to']))\n",
    "        \n",
    "# mining_train_edges = []\n",
    "# for i in range(graph_train.shape[0]):\n",
    "#     row = graph_train.iloc[i]\n",
    "#     if row['addr_from'] == 'mining':\n",
    "#         mining_train_edges.append((row['addr_from'], row['addr_to']))\n",
    "#miners = miner_addr#.difference(sender_keys)\n",
    "#player = sender_keys.difference(pure_miner)\n",
    "\n",
    "# for n in G.nodes():\n",
    "#     if n in miner_addr:\n",
    "#         G.node[n][\"miner\"] = True\n",
    "#     else:\n",
    "#         G.node[n][\"miner\"] = False\n",
    "# Identify nodes that have received mining btc but never sent btc\n",
    "#sum(np.multiply(miner_mask, ~sender_key_mask))\n",
    "#pure_miner_keys = graph_df.loc[~graph_df['addr_to'].isin(sender_keys), 'addr_from']"
   ]
  },
  {
   "cell_type": "code",
   "execution_count": 37,
   "metadata": {
    "collapsed": true
   },
   "outputs": [],
   "source": [
    "# Label self payments\n",
    "# TODO: This only gets one edge per pair of nodes, not multi-edges\n",
    "# for u,v,d in G.edges(data=True):\n",
    "#     if u == v:\n",
    "#         G.edge[u][v][0]['selfie'] = True\n",
    "#     else:\n",
    "#         G.edge[u][v][0]['selfie'] = False\n",
    "#= [(u,v,d) for u,v,d in G.edges(data=True) if u == v]"
   ]
  },
  {
   "cell_type": "code",
   "execution_count": 38,
   "metadata": {},
   "outputs": [],
   "source": [
    "# Remove mining transactions and create edge list for node2vec\n",
    "#nodes_no_mine = [n for n in G.nodes() if G.node[n]['miner'] ]\n",
    "#G = G.subgraph(nodes_no_mine)\n",
    "#G.remove_edges_from(mining_edges)\n",
    "#G_und = G.to_undirected()\n",
    "\n",
    "#G_train.remove_edges_from(mining_train_edges)\n",
    "# G_train_und = G_train.to_undirected()\n",
    "# # Assign transaction amount as weight\n",
    "# print(\"Number of nodes: {0}\\nNumber of edges: {1}\".format(G.number_of_nodes(), G.number_of_edges()))\n",
    "# print(\"Number of nodes: {0}\\nNumber of edges: {1}\".format(G_train.number_of_nodes(), G_train.number_of_edges()))\n"
   ]
  },
  {
   "cell_type": "code",
   "execution_count": 39,
   "metadata": {},
   "outputs": [],
   "source": [
    "# for n in G.nodes():\n",
    "#     print(G[n])"
   ]
  },
  {
   "cell_type": "code",
   "execution_count": null,
   "metadata": {
    "collapsed": true
   },
   "outputs": [],
   "source": []
  },
  {
   "cell_type": "code",
   "execution_count": null,
   "metadata": {},
   "outputs": [],
   "source": []
  },
  {
   "cell_type": "code",
   "execution_count": 40,
   "metadata": {
    "collapsed": true
   },
   "outputs": [],
   "source": [
    "def learn_embeddings(walks, dimensions, window_size, workers, n_iter=1):\n",
    "    '''\n",
    "    Learn embeddings by optimizing the Skipgram objective using SGD.\n",
    "    '''\n",
    "    \n",
    "    # Python 2 or 3\n",
    "    if sys.version_info.major < 3:\n",
    "        walks = [map(str, walk) for walk in walks]\n",
    "    else: # Python 3\n",
    "        walks = [list(map(str,walk)) for walk in walks]\n",
    "        \n",
    "    model = Word2Vec(walks, size=dimensions, window=window_size, min_count=0, sg=1, workers=workers, iter=n_iter)\n",
    "    #model.save_word2vec_format(args.output)\n",
    "    return model\n",
    "\n",
    "    \n"
   ]
  },
  {
   "cell_type": "markdown",
   "metadata": {},
   "source": [
    "## Compute metrics for pairs of nodes"
   ]
  },
  {
   "cell_type": "code",
   "execution_count": 41,
   "metadata": {
    "collapsed": true
   },
   "outputs": [],
   "source": [
    "\n",
    "# edge_metrics = {}\n",
    "# unique_edges = list(set(G_und.edges_iter()))\n",
    "# #for e in unique_edges:\n",
    "# for e in G_und.edges_iter():\n",
    "#     edge_metrics[e] = {'common_neighbors': len(list(nx.common_neighbors(G_und, e[0], e[1]))),\n",
    "#                       'hadamard': np.dot(model.wv[e[0]], model.wv[e[1]])}\n",
    "# #   edge_metrics[str(e)]['hadamard'] = np.dot(model.wv[e[0]], model.wv[e[1]])\n",
    "\n",
    "#nx.triadic_census(G)\n",
    "#print(e, edge_metrics[e])"
   ]
  },
  {
   "cell_type": "code",
   "execution_count": null,
   "metadata": {
    "collapsed": true
   },
   "outputs": [],
   "source": []
  },
  {
   "cell_type": "code",
   "execution_count": 42,
   "metadata": {},
   "outputs": [],
   "source": [
    "# Split into train and test by blockheight\n",
    "# height_max = np.max([d['height'] for (u,v,d) in G.edges(data=True)])\n",
    "# height_max = 60000\n",
    "# train_test_split = int(0.98*height_max)\n",
    "# print(train_test_split, height_max)\n",
    "# e_train = [(u,v) for (u,v,d) in G.edges(data=True) if d['height'] < train_test_split]\n",
    "# e_test = [(u,v) for (u,v,d) in G.edges(data=True) if d['height'] >= train_test_split]\n",
    "# nodes_train = list(set([item for sublist in e_train for item in sublist]))\n",
    "# nodes_test = list(set([item for sublist in e_test for item in sublist]))\n",
    "# print(len(e_train), len(e_test))\n",
    "# print(len(nodes_train), len(nodes_test))"
   ]
  },
  {
   "cell_type": "code",
   "execution_count": 43,
   "metadata": {},
   "outputs": [
    {
     "name": "stdout",
     "output_type": "stream",
     "text": [
      "Walk iteration:\n",
      "1 / 20\n",
      "2 / 20\n",
      "3 / 20\n",
      "4 / 20\n",
      "5 / 20\n",
      "6 / 20\n",
      "7 / 20\n",
      "8 / 20\n",
      "9 / 20\n",
      "10 / 20\n",
      "11 / 20\n",
      "12 / 20\n",
      "13 / 20\n",
      "14 / 20\n",
      "15 / 20\n",
      "16 / 20\n",
      "17 / 20\n",
      "18 / 20\n",
      "19 / 20\n",
      "20 / 20\n"
     ]
    }
   ],
   "source": [
    "reload(n2v)\n",
    "p, q = 1,3\n",
    "# G_n2v = n2v.Graph(G, True, p, q)\n",
    "# G_n2v.preprocess_transition_probs()\n",
    "\n",
    "\n",
    "# walks = G_n2v.simulate_walks(20, 10)\n",
    "G_n2v = n2v.Graph(G_train, True, p, q)\n",
    "G_n2v.preprocess_transition_probs()\n",
    "\n",
    "\n",
    "walks = G_n2v.simulate_walks(20, 10)\n",
    "\n",
    "\n",
    "#walks\n",
    "long_walks = [w for w in walks if len(w) > 2]\n",
    "#long_walks\n",
    "dimensions = 100\n",
    "window_size = 5\n",
    "workers =4\n",
    "n_iter = 10\n",
    "#walks = longer_walks\n",
    "#walks = [map(str, walk) for walk in walks]\n",
    "#model = Word2Vec(walks, size=dimensions, window=window_size, min_count=0, sg=1, workers=workers, iter=n_iter)\n",
    "model = learn_embeddings(walks, dimensions, window_size, workers, n_iter=n_iter)"
   ]
  },
  {
   "cell_type": "code",
   "execution_count": 59,
   "metadata": {},
   "outputs": [],
   "source": [
    "pairs_train = cwr(G_train.nodes(), 2)\n",
    "pairs_train_list = list(pairs_train)\n",
    "#node_pairs = cwr(nodes_train, 2)\n",
    "#nodes_train = G_train.nodes()\n",
    "pairs_test = cwr(G_train.nodes(), 2)\n",
    "pairs_test_list = list(set(pairs_test).intersection(set(pairs_train_list)))"
   ]
  },
  {
   "cell_type": "code",
   "execution_count": 62,
   "metadata": {},
   "outputs": [],
   "source": [
    "e_train = G_train.edges()\n",
    "e_test = G_test.edges()"
   ]
  },
  {
   "cell_type": "code",
   "execution_count": 63,
   "metadata": {},
   "outputs": [],
   "source": [
    "train = []\n",
    "def common_neighbor(pair, G):\n",
    "    com_nbr = len(list(nx.common_neighbors(G_und, pair[0], pair[1])))\n",
    "\n",
    "    return com_nbr\n",
    "\n",
    "def hadamard(pair, G):\n",
    "    hadamard = np.dot(model.wv[pair[0]], model.wv[pair[1]])\n",
    "    \n",
    "    return hadamard"
   ]
  },
  {
   "cell_type": "code",
   "execution_count": 73,
   "metadata": {},
   "outputs": [
    {
     "name": "stdout",
     "output_type": "stream",
     "text": [
      "CPU times: user 104 ms, sys: 1.85 ms, total: 106 ms\n",
      "Wall time: 107 ms\n",
      "CPU times: user 24.1 ms, sys: 269 µs, total: 24.4 ms\n",
      "Wall time: 24.4 ms\n",
      "CPU times: user 29 ms, sys: 7.69 ms, total: 36.7 ms\n",
      "Wall time: 30 ms\n"
     ]
    }
   ],
   "source": [
    "%time edge_mask = [pair in e_train or (pair[1], pair[0]) in e_train for pair in pairs_train_list]\n",
    "train_df = pd.DataFrame({'node_pair': pairs_train_list})\n",
    "train_df['edge_mask'] = edge_mask\n",
    "%time train_df['com_nbr'] = [common_neighbor(pair, G_train_und) for pair in pairs_train_list]\n",
    "%time train_df['hadamard'] = [np.dot(model.wv[pair[0]], model.wv[pair[1]]) for pair in pairs_train_list]\n"
   ]
  },
  {
   "cell_type": "code",
   "execution_count": 74,
   "metadata": {},
   "outputs": [
    {
     "name": "stdout",
     "output_type": "stream",
     "text": [
      "(5995, 4)\n"
     ]
    },
    {
     "data": {
      "text/plain": [
       "110"
      ]
     },
     "execution_count": 74,
     "metadata": {},
     "output_type": "execute_result"
    }
   ],
   "source": [
    "print(train_df.shape)\n",
    "sum(train_df['edge_mask'])"
   ]
  },
  {
   "cell_type": "code",
   "execution_count": 75,
   "metadata": {},
   "outputs": [
    {
     "name": "stdout",
     "output_type": "stream",
     "text": [
      "0.744958677686\n",
      "0.748536340465\n"
     ]
    }
   ],
   "source": [
    "print(auc(train_df['edge_mask'], train_df['com_nbr']))\n",
    "print(auc(train_df['edge_mask'], train_df['hadamard']))"
   ]
  },
  {
   "cell_type": "code",
   "execution_count": 76,
   "metadata": {},
   "outputs": [
    {
     "name": "stdout",
     "output_type": "stream",
     "text": [
      "CPU times: user 21.3 ms, sys: 2.03 ms, total: 23.4 ms\n",
      "Wall time: 22 ms\n",
      "CPU times: user 38.7 ms, sys: 427 µs, total: 39.1 ms\n",
      "Wall time: 39.4 ms\n",
      "CPU times: user 34.5 ms, sys: 7.63 ms, total: 42.1 ms\n",
      "Wall time: 36.5 ms\n",
      "1.0\n",
      "0.994327660994\n"
     ]
    }
   ],
   "source": [
    "%time edge_mask = [pair in e_test or (pair[1], pair[0]) in e_test for pair in pairs_test_list]\n",
    "test_df = pd.DataFrame({'node_pair': pairs_test_list})\n",
    "test_df['edge_mask'] = edge_mask\n",
    "%time test_df['com_nbr'] = [common_neighbor(pair, G_test_und) for pair in pairs_test_list]\n",
    "%time test_df['hadamard'] = [np.dot(model.wv[pair[0]], model.wv[pair[1]]) for pair in pairs_test_list]\n",
    "\n",
    "print(auc(test_df['edge_mask'], test_df['com_nbr']))\n",
    "print(auc(test_df['edge_mask'], test_df['hadamard']))"
   ]
  },
  {
   "cell_type": "code",
   "execution_count": 51,
   "metadata": {
    "collapsed": true
   },
   "outputs": [],
   "source": []
  },
  {
   "cell_type": "code",
   "execution_count": 52,
   "metadata": {},
   "outputs": [
    {
     "data": {
      "text/plain": [
       "1"
      ]
     },
     "execution_count": 52,
     "metadata": {},
     "output_type": "execute_result"
    }
   ],
   "source": [
    "print(test_df.shape)\n",
    "sum(test_df['edge_mask'])"
   ]
  },
  {
   "cell_type": "code",
   "execution_count": null,
   "metadata": {},
   "outputs": [],
   "source": [
    "#e_test"
   ]
  },
  {
   "cell_type": "code",
   "execution_count": null,
   "metadata": {
    "collapsed": true
   },
   "outputs": [],
   "source": []
  }
 ],
 "metadata": {
  "kernelspec": {
   "display_name": "Python [conda env:ra]",
   "language": "python",
   "name": "conda-env-ra-py"
  },
  "language_info": {
   "codemirror_mode": {
    "name": "ipython",
    "version": 3
   },
   "file_extension": ".py",
   "mimetype": "text/x-python",
   "name": "python",
   "nbconvert_exporter": "python",
   "pygments_lexer": "ipython3",
   "version": "3.6.2"
  }
 },
 "nbformat": 4,
 "nbformat_minor": 2
}
